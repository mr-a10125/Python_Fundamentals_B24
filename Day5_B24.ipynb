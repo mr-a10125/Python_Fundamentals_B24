{
 "cells": [
  {
   "cell_type": "code",
   "execution_count": null,
   "metadata": {},
   "outputs": [],
   "source": [
    "Introduction to for loops:"
   ]
  },
  {
   "cell_type": "code",
   "execution_count": null,
   "metadata": {},
   "outputs": [],
   "source": []
  },
  {
   "cell_type": "code",
   "execution_count": 1,
   "metadata": {},
   "outputs": [],
   "source": [
    "my_students = ['abc', 'bcd', 'cde', 'def', 'efg', 'fgh', 'ghi']"
   ]
  },
  {
   "cell_type": "code",
   "execution_count": 2,
   "metadata": {},
   "outputs": [
    {
     "name": "stdout",
     "output_type": "stream",
     "text": [
      "['abc', 'bcd', 'cde', 'def', 'efg', 'fgh', 'ghi']\n"
     ]
    }
   ],
   "source": [
    "print(my_students)"
   ]
  },
  {
   "cell_type": "code",
   "execution_count": 3,
   "metadata": {},
   "outputs": [
    {
     "data": {
      "text/plain": [
       "list"
      ]
     },
     "execution_count": 3,
     "metadata": {},
     "output_type": "execute_result"
    }
   ],
   "source": [
    "type(my_students)"
   ]
  },
  {
   "cell_type": "code",
   "execution_count": null,
   "metadata": {},
   "outputs": [],
   "source": [
    "#req: "
   ]
  },
  {
   "cell_type": "code",
   "execution_count": 4,
   "metadata": {},
   "outputs": [
    {
     "name": "stdout",
     "output_type": "stream",
     "text": [
      "keep up the good work, abc\n"
     ]
    }
   ],
   "source": [
    "print(f\"keep up the good work, {my_students[0]}\")"
   ]
  },
  {
   "cell_type": "code",
   "execution_count": 5,
   "metadata": {},
   "outputs": [
    {
     "name": "stdout",
     "output_type": "stream",
     "text": [
      "keep up the good work, bcd\n"
     ]
    }
   ],
   "source": [
    "print(f\"keep up the good work, {my_students[1]}\")"
   ]
  },
  {
   "cell_type": "code",
   "execution_count": 6,
   "metadata": {},
   "outputs": [
    {
     "name": "stdout",
     "output_type": "stream",
     "text": [
      "keep up the good work, efg\n"
     ]
    }
   ],
   "source": [
    "print(f\"keep up the good work, {my_students[4]}\")"
   ]
  },
  {
   "cell_type": "code",
   "execution_count": null,
   "metadata": {},
   "outputs": [],
   "source": []
  },
  {
   "cell_type": "code",
   "execution_count": 7,
   "metadata": {},
   "outputs": [
    {
     "name": "stdout",
     "output_type": "stream",
     "text": [
      "['abc', 'bcd', 'cde', 'def', 'efg', 'fgh', 'ghi']\n"
     ]
    }
   ],
   "source": [
    "print(my_students)"
   ]
  },
  {
   "cell_type": "code",
   "execution_count": null,
   "metadata": {},
   "outputs": [],
   "source": []
  },
  {
   "cell_type": "code",
   "execution_count": null,
   "metadata": {},
   "outputs": [],
   "source": [
    "#implemetation of a for loop"
   ]
  },
  {
   "cell_type": "code",
   "execution_count": 9,
   "metadata": {},
   "outputs": [
    {
     "name": "stdout",
     "output_type": "stream",
     "text": [
      "keep up the good work, abc\n",
      "keep up the good work, bcd\n",
      "keep up the good work, cde\n",
      "keep up the good work, def\n",
      "keep up the good work, efg\n",
      "keep up the good work, fgh\n",
      "keep up the good work, ghi\n"
     ]
    }
   ],
   "source": [
    "for students in my_students:\n",
    "    print(f\"keep up the good work, {students}\")"
   ]
  },
  {
   "cell_type": "code",
   "execution_count": null,
   "metadata": {},
   "outputs": [],
   "source": []
  },
  {
   "cell_type": "code",
   "execution_count": null,
   "metadata": {},
   "outputs": [],
   "source": [
    "# general syntax of a for loop"
   ]
  },
  {
   "cell_type": "code",
   "execution_count": null,
   "metadata": {},
   "outputs": [],
   "source": [
    "for temparary_variable in main_variable:\n",
    "    print(temparary_variable) # indentation"
   ]
  },
  {
   "cell_type": "code",
   "execution_count": null,
   "metadata": {},
   "outputs": [],
   "source": [
    "for <variable name> in <main variable name>:\n",
    "    print(<variable name>)"
   ]
  },
  {
   "cell_type": "code",
   "execution_count": 11,
   "metadata": {},
   "outputs": [
    {
     "name": "stdout",
     "output_type": "stream",
     "text": [
      "keep up the good work, Abc\n",
      "keep up the good work, Bcd\n",
      "keep up the good work, Cde\n",
      "keep up the good work, Def\n",
      "keep up the good work, Efg\n",
      "keep up the good work, Fgh\n",
      "keep up the good work, Ghi\n"
     ]
    }
   ],
   "source": [
    "for x in my_students:\n",
    "    print(f\"keep up the good work, {x.title()}\")"
   ]
  },
  {
   "cell_type": "code",
   "execution_count": null,
   "metadata": {},
   "outputs": [],
   "source": []
  },
  {
   "cell_type": "code",
   "execution_count": 14,
   "metadata": {},
   "outputs": [
    {
     "name": "stdout",
     "output_type": "stream",
     "text": [
      "keep up the good work, Abc\n",
      "I am looking forward to receive your practice file, Abc\n",
      "keep up the good work, Bcd\n",
      "I am looking forward to receive your practice file, Bcd\n",
      "keep up the good work, Cde\n",
      "I am looking forward to receive your practice file, Cde\n",
      "keep up the good work, Def\n",
      "I am looking forward to receive your practice file, Def\n",
      "keep up the good work, Efg\n",
      "I am looking forward to receive your practice file, Efg\n",
      "keep up the good work, Fgh\n",
      "I am looking forward to receive your practice file, Fgh\n",
      "keep up the good work, Ghi\n",
      "I am looking forward to receive your practice file, Ghi\n"
     ]
    }
   ],
   "source": [
    "for students in my_students:\n",
    "    print(f\"keep up the good work, {students.title()}\")\n",
    "    print(f\"I am looking forward to receive your practice file, {students.title()}\")"
   ]
  },
  {
   "cell_type": "code",
   "execution_count": 15,
   "metadata": {},
   "outputs": [
    {
     "name": "stdout",
     "output_type": "stream",
     "text": [
      "keep up the good work, Abc\n",
      "I am looking forward to receive your practice file, Abc.\n",
      "\n",
      "keep up the good work, Bcd\n",
      "I am looking forward to receive your practice file, Bcd.\n",
      "\n",
      "keep up the good work, Cde\n",
      "I am looking forward to receive your practice file, Cde.\n",
      "\n",
      "keep up the good work, Def\n",
      "I am looking forward to receive your practice file, Def.\n",
      "\n",
      "keep up the good work, Efg\n",
      "I am looking forward to receive your practice file, Efg.\n",
      "\n",
      "keep up the good work, Fgh\n",
      "I am looking forward to receive your practice file, Fgh.\n",
      "\n",
      "keep up the good work, Ghi\n",
      "I am looking forward to receive your practice file, Ghi.\n",
      "\n"
     ]
    }
   ],
   "source": [
    "for students in my_students:\n",
    "    print(f\"keep up the good work, {students.title()}\")\n",
    "    print(f\"I am looking forward to receive your practice file, {students.title()}.\\n\")"
   ]
  },
  {
   "cell_type": "code",
   "execution_count": 16,
   "metadata": {},
   "outputs": [
    {
     "name": "stdout",
     "output_type": "stream",
     "text": [
      "keep up the good work, Abc\n",
      "I am looking forward to receive your practice file, Abc.\n",
      "\n",
      "keep up the good work, Bcd\n",
      "I am looking forward to receive your practice file, Bcd.\n",
      "\n",
      "keep up the good work, Cde\n",
      "I am looking forward to receive your practice file, Cde.\n",
      "\n",
      "keep up the good work, Def\n",
      "I am looking forward to receive your practice file, Def.\n",
      "\n",
      "keep up the good work, Efg\n",
      "I am looking forward to receive your practice file, Efg.\n",
      "\n",
      "keep up the good work, Fgh\n",
      "I am looking forward to receive your practice file, Fgh.\n",
      "\n",
      "keep up the good work, Ghi\n",
      "I am looking forward to receive your practice file, Ghi.\n",
      "\n",
      "Thank you all for showing intrest in learning in Python\n"
     ]
    }
   ],
   "source": [
    "for students in my_students:\n",
    "    print(f\"keep up the good work, {students.title()}\")\n",
    "    print(f\"I am looking forward to receive your practice file, {students.title()}.\\n\")\n",
    "\n",
    "print(\"Thank you all for showing intrest in learning in Python\")  # printing outside the loop"
   ]
  },
  {
   "cell_type": "code",
   "execution_count": null,
   "metadata": {},
   "outputs": [],
   "source": []
  }
 ],
 "metadata": {
  "kernelspec": {
   "display_name": "Python 3",
   "language": "python",
   "name": "python3"
  },
  "language_info": {
   "codemirror_mode": {
    "name": "ipython",
    "version": 3
   },
   "file_extension": ".py",
   "mimetype": "text/x-python",
   "name": "python",
   "nbconvert_exporter": "python",
   "pygments_lexer": "ipython3",
   "version": "3.7.6"
  }
 },
 "nbformat": 4,
 "nbformat_minor": 4
}
