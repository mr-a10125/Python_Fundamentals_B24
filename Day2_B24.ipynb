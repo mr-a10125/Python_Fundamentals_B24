{
 "cells": [
  {
   "cell_type": "code",
   "execution_count": null,
   "metadata": {},
   "outputs": [],
   "source": [
    "# ----> Used for comments in python"
   ]
  },
  {
   "cell_type": "code",
   "execution_count": null,
   "metadata": {},
   "outputs": [],
   "source": [
    "# Understanding the Variables in Python"
   ]
  },
  {
   "cell_type": "code",
   "execution_count": null,
   "metadata": {},
   "outputs": [],
   "source": [
    "# Rules for declaring variables in python\n",
    "    # 1) No name spaces while declaring the variables\n",
    "        # ex:- first name = 'abc' (invalid syntax)\n",
    "    # 2) You should not start the variable name with a number\n",
    "        # ex:- 1name = 'abc' (invalid syntax)\n",
    "    # 3) Variablesname should not contain any special charactr like @, %, $\n",
    "        # ex:- first@name = 'abc' (invalid syntax)"
   ]
  },
  {
   "cell_type": "code",
   "execution_count": 2,
   "metadata": {},
   "outputs": [
    {
     "name": "stdout",
     "output_type": "stream",
     "text": [
      "abc\n",
      "abc\n",
      "abc\n"
     ]
    }
   ],
   "source": [
    "# declaring a variables without spaces\n",
    "first_name = 'abc'\n",
    "print(first_name)\n",
    "\n",
    "# declaring a varibles with numbers except at starting of the variable name\n",
    "name1 = 'abc'\n",
    "print(name1)\n",
    "    \n",
    "# A variable should not contain any special characters except _\n",
    "full_name = 'abc'\n",
    "print(full_name)"
   ]
  },
  {
   "cell_type": "code",
   "execution_count": null,
   "metadata": {},
   "outputs": [],
   "source": [
    "# Classification of data types:\n",
    "    # there are 2 different categories:\n",
    "        # 1) muttable datatypes\n",
    "        # 2) immutable datatypes"
   ]
  },
  {
   "cell_type": "code",
   "execution_count": null,
   "metadata": {},
   "outputs": [],
   "source": [
    "# muttable datatypes:-\n",
    "    # we can able to change/modify the data once it gets assigned.\n",
    "    \n",
    "# immuttable datatypes:-\n",
    "    # we can able to change/modify the data once it gets assigned."
   ]
  },
  {
   "cell_type": "code",
   "execution_count": null,
   "metadata": {},
   "outputs": [],
   "source": [
    "# Introduction to datatypes in python:\n",
    "    # String -------> str\n",
    "    # Integer ------> int\n",
    "    # List ---------> list\n",
    "    # Tuple --------> tuple\n",
    "    # Dictionary ---> dict"
   ]
  },
  {
   "cell_type": "code",
   "execution_count": null,
   "metadata": {},
   "outputs": [],
   "source": [
    "# python is a case sensitive language, small and upper cases will be impacting the code"
   ]
  },
  {
   "cell_type": "code",
   "execution_count": null,
   "metadata": {},
   "outputs": [],
   "source": [
    "# Introduction to String data type:-"
   ]
  },
  {
   "cell_type": "code",
   "execution_count": null,
   "metadata": {},
   "outputs": [],
   "source": [
    "# D/- \n",
    "    # A string is nothing but a series of characters declared in b/w the quotes"
   ]
  },
  {
   "cell_type": "code",
   "execution_count": null,
   "metadata": {},
   "outputs": [],
   "source": [
    "# classification:-\n",
    "    # A string is classified as an immutable datatype **"
   ]
  },
  {
   "cell_type": "code",
   "execution_count": null,
   "metadata": {},
   "outputs": [],
   "source": [
    "# declaration:-\n",
    "    # signle quotes\n",
    "    # double quotes\n",
    "    # triple quotes"
   ]
  },
  {
   "cell_type": "code",
   "execution_count": 3,
   "metadata": {},
   "outputs": [
    {
     "name": "stdout",
     "output_type": "stream",
     "text": [
      "abc\n",
      "abc\n",
      "abc\n"
     ]
    }
   ],
   "source": [
    "name1 = 'abc'\n",
    "name2 = \"abc\"\n",
    "name3 = \"\"\"abc\"\"\"\n",
    "print(name1)\n",
    "print(name2)\n",
    "print(name3)"
   ]
  },
  {
   "cell_type": "code",
   "execution_count": 4,
   "metadata": {},
   "outputs": [
    {
     "data": {
      "text/plain": [
       "str"
      ]
     },
     "execution_count": 4,
     "metadata": {},
     "output_type": "execute_result"
    }
   ],
   "source": [
    "# Builtin methods of string\n",
    "# To verify and Validate the data type:\n",
    "type(name1)\n",
    "type(name2)\n",
    "type(name3)"
   ]
  },
  {
   "cell_type": "code",
   "execution_count": 7,
   "metadata": {},
   "outputs": [],
   "source": [
    "full_name1 = 'abc dEf'"
   ]
  },
  {
   "cell_type": "code",
   "execution_count": 8,
   "metadata": {},
   "outputs": [
    {
     "name": "stdout",
     "output_type": "stream",
     "text": [
      "Abc Def\n",
      "ABC DEF\n",
      "abc def\n"
     ]
    }
   ],
   "source": [
    "# Title case\n",
    "print(full_name1.title())\n",
    "\n",
    "# Upper case\n",
    "print(full_name1.upper())\n",
    "\n",
    "#lower case\n",
    "print(full_name1.lower())"
   ]
  },
  {
   "cell_type": "code",
   "execution_count": null,
   "metadata": {},
   "outputs": [],
   "source": []
  }
 ],
 "metadata": {
  "kernelspec": {
   "display_name": "Python 3",
   "language": "python",
   "name": "python3"
  },
  "language_info": {
   "codemirror_mode": {
    "name": "ipython",
    "version": 3
   },
   "file_extension": ".py",
   "mimetype": "text/x-python",
   "name": "python",
   "nbconvert_exporter": "python",
   "pygments_lexer": "ipython3",
   "version": "3.7.6"
  }
 },
 "nbformat": 4,
 "nbformat_minor": 4
}
